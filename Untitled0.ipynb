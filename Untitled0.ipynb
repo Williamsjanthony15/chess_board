{
  "nbformat": 4,
  "nbformat_minor": 0,
  "metadata": {
    "colab": {
      "name": "Untitled0.ipynb",
      "provenance": [],
      "collapsed_sections": [],
      "authorship_tag": "ABX9TyNhJQK19fvH6RvSJR7br+JT",
      "include_colab_link": true
    },
    "kernelspec": {
      "name": "python3",
      "display_name": "Python 3"
    },
    "language_info": {
      "name": "python"
    }
  },
  "cells": [
    {
      "cell_type": "markdown",
      "metadata": {
        "id": "view-in-github",
        "colab_type": "text"
      },
      "source": [
        "<a href=\"https://colab.research.google.com/github/Williamsjanthony15/chess_board/blob/main/Untitled0.ipynb\" target=\"_parent\"><img src=\"https://colab.research.google.com/assets/colab-badge.svg\" alt=\"Open In Colab\"/></a>"
      ]
    },
    {
      "cell_type": "code",
      "metadata": {
        "id": "xyDpxcFUpoRR"
      },
      "source": [
        "import numpy as np\n",
        "import matplotlib.pyplot as plt"
      ],
      "execution_count": 1,
      "outputs": []
    },
    {
      "cell_type": "code",
      "metadata": {
        "id": "NAOhx-vHJ5oz"
      },
      "source": [
        "class Board():\n",
        "\n",
        "  red_tiles = (1,0,0)\n",
        "  blue_tiles = (0,0,1)\n",
        "\n",
        "  def __init__(self):\n",
        "    self.grid = np.ones((8,8,3))\n",
        "    for coords in np.ndindex(8,8):\n",
        "      row = coords[0]\n",
        "      col = coords[1]\n",
        "      if row %2 != col %2:\n",
        "        self.grid[row, col] = (0,0,0)\n",
        "\n",
        "  def add_red(self, row, col):\n",
        "    self.grid[row][col] = self.red_tiles\n",
        "\n",
        "  def add_blue(self, row, col):\n",
        "    self.grid[row][col] = self.blue_tiles\n",
        "  \n",
        "  def render(self):\n",
        "    plt.imshow(self.grid)\n",
        "\n",
        "  def is_under_attack(self):\n",
        "    RC = None\n",
        "    BC = None\n",
        "\n",
        "    for i, row in enumerate(self.grid):\n",
        "      for j, col in enumerate(row):\n",
        "        if np.array_equal(col, self.blue_tiles):\n",
        "          BC = (i, j)\n",
        "        if np.array_equal(col, self.red_tiles):\n",
        "          RC = (i, j)\n",
        "\n",
        "    diag_y = abs(BC[0] - RC[0])\n",
        "    diag_x = abs(BC[1] - RC[1])\n",
        "\n",
        "    \n",
        "    if not RC or not BC:\n",
        "      return True\n",
        "      \n",
        "    # Checking Row\n",
        "    if RC[0] == BC[0]:\n",
        "      return True\n",
        "      \n",
        "    # Checking Col\n",
        "    if RC[1] == BC[1]:\n",
        "      return True\n",
        "      \n",
        "    if diag_y == diag_x:\n",
        "      return True\n",
        "      "
      ],
      "execution_count": 35,
      "outputs": []
    },
    {
      "cell_type": "code",
      "metadata": {
        "colab": {
          "base_uri": "https://localhost:8080/",
          "height": 282
        },
        "id": "z5EPIuhQKvqe",
        "outputId": "0236c595-b326-4e06-e27b-390322ba928e"
      },
      "source": [
        "  if True:\n",
        "    print('***UNDER ATTACK***')\n",
        "\n",
        " ## ROW ATTACK   \n",
        "board = Board()\n",
        "board.add_red(3,3)\n",
        "board.add_blue(3,0)\n",
        "board.render()\n",
        "board.is_under_attack()\n",
        "assert board.is_under_attack()"
      ],
      "execution_count": 36,
      "outputs": [
        {
          "output_type": "stream",
          "text": [
            "***UNDER ATTACK***\n"
          ],
          "name": "stdout"
        },
        {
          "output_type": "display_data",
          "data": {
            "image/png": "[encoded data removed]",
            "text/plain": [
              "<Figure size 432x288 with 1 Axes>"
            ]
          },
          "metadata": {
            "tags": [],
            "needs_background": "light"
          }
        }
      ]
    },
    {
      "cell_type": "code",
      "metadata": {
        "colab": {
          "base_uri": "https://localhost:8080/",
          "height": 282
        },
        "id": "CFfUUvjTLHCF",
        "outputId": "8985e6d2-1d71-4a05-b2ce-f2979e778f65"
      },
      "source": [
        "  if True:\n",
        "    print('***UNDER ATTACK***')\n",
        "\n",
        "## COL ATTACK    \n",
        "board = Board()\n",
        "board.add_red(3,3)\n",
        "board.add_blue(0,3)\n",
        "board.render()\n",
        "board.is_under_attack()\n",
        "assert board.is_under_attack()"
      ],
      "execution_count": 37,
      "outputs": [
        {
          "output_type": "stream",
          "text": [
            "***UNDER ATTACK***\n"
          ],
          "name": "stdout"
        },
        {
          "output_type": "display_data",
          "data": {
            "image/png": "[encoded data removed]",
            "text/plain": [
              "<Figure size 432x288 with 1 Axes>"
            ]
          },
          "metadata": {
            "tags": [],
            "needs_background": "light"
          }
        }
      ]
    },
    {
      "cell_type": "code",
      "metadata": {
        "colab": {
          "base_uri": "https://localhost:8080/",
          "height": 282
        },
        "id": "J3bhWCUkLdRJ",
        "outputId": "b5f5a676-c8bc-4955-c053-e1aa15833c0e"
      },
      "source": [
        "  if True:\n",
        "    print('***UNDER ATTACK***')\n",
        "\n",
        "## DIAG ATTACK    \n",
        "board = Board()\n",
        "board.add_red(3,3)\n",
        "board.add_blue(0,3)\n",
        "board.render()\n",
        "board.is_under_attack()\n",
        "assert board.is_under_attack()"
      ],
      "execution_count": 38,
      "outputs": [
        {
          "output_type": "stream",
          "text": [
            "***UNDER ATTACK***\n"
          ],
          "name": "stdout"
        },
        {
          "output_type": "display_data",
          "data": {
            "image/png": "[encoded data removed]",
            "text/plain": [
              "<Figure size 432x288 with 1 Axes>"
            ]
          },
          "metadata": {
            "tags": [],
            "needs_background": "light"
          }
        }
      ]
    },
    {
      "cell_type": "code",
      "metadata": {
        "colab": {
          "base_uri": "https://localhost:8080/",
          "height": 463
        },
        "id": "n63zC6LRLha2",
        "outputId": "71abb4d3-44ea-4f4e-ea7e-47f95a0e49b7"
      },
      "source": [
        "  if True:\n",
        "    print('***UNDER ATTACK***')\n",
        "\n",
        "## NO ATTACK    \n",
        "board = Board()\n",
        "board.add_red(0,3)\n",
        "board.add_blue(7,7)\n",
        "board.render()\n",
        "board.is_under_attack()\n",
        "assert board.is_under_attack()"
      ],
      "execution_count": 39,
      "outputs": [
        {
          "output_type": "stream",
          "text": [
            "***UNDER ATTACK***\n"
          ],
          "name": "stdout"
        },
        {
          "output_type": "error",
          "ename": "AssertionError",
          "evalue": "ignored",
          "traceback": [
            "\u001b[0;31m---------------------------------------------------------------------------\u001b[0m",
            "\u001b[0;31mAssertionError\u001b[0m                            Traceback (most recent call last)",
            "\u001b[0;32m<ipython-input-39-8bc110e06107>\u001b[0m in \u001b[0;36m<module>\u001b[0;34m()\u001b[0m\n\u001b[1;32m      8\u001b[0m \u001b[0mboard\u001b[0m\u001b[0;34m.\u001b[0m\u001b[0mrender\u001b[0m\u001b[0;34m(\u001b[0m\u001b[0;34m)\u001b[0m\u001b[0;34m\u001b[0m\u001b[0;34m\u001b[0m\u001b[0m\n\u001b[1;32m      9\u001b[0m \u001b[0mboard\u001b[0m\u001b[0;34m.\u001b[0m\u001b[0mis_under_attack\u001b[0m\u001b[0;34m(\u001b[0m\u001b[0;34m)\u001b[0m\u001b[0;34m\u001b[0m\u001b[0;34m\u001b[0m\u001b[0m\n\u001b[0;32m---> 10\u001b[0;31m \u001b[0;32massert\u001b[0m \u001b[0mboard\u001b[0m\u001b[0;34m.\u001b[0m\u001b[0mis_under_attack\u001b[0m\u001b[0;34m(\u001b[0m\u001b[0;34m)\u001b[0m\u001b[0;34m\u001b[0m\u001b[0;34m\u001b[0m\u001b[0m\n\u001b[0m",
            "\u001b[0;31mAssertionError\u001b[0m: "
          ]
        },
        {
          "output_type": "display_data",
          "data": {
            "image/png": "[encoded data removed]",
            "text/plain": [
              "<Figure size 432x288 with 1 Axes>"
            ]
          },
          "metadata": {
            "tags": [],
            "needs_background": "light"
          }
        }
      ]
    }
  ]
}